{
 "cells": [
  {
   "cell_type": "code",
   "execution_count": 1,
   "id": "1f842a92-27f0-4ac7-8aa7-808b91c1e55f",
   "metadata": {},
   "outputs": [],
   "source": [
    "# Importing required libraries\n",
    "import pandas as pd  # For data manipulation\n",
    "import seaborn as sns  # For data visualization\n",
    "import matplotlib.pyplot as plt  # For plotting graphs\n",
    "from sklearn.model_selection import train_test_split  # For splitting the data\n",
    "from sklearn.ensemble import RandomForestClassifier  # Machine learning model\n",
    "from sklearn.metrics import accuracy_score  # For model evaluation\n",
    "import pickle  # To save and load models\n",
    "\n",
    "# To display plots inline in Jupyter\n",
    "%matplotlib inline\n"
   ]
  },
  {
   "cell_type": "code",
   "execution_count": 11,
   "id": "207b0478-3ffd-4d5a-8204-8543ba545172",
   "metadata": {},
   "outputs": [
    {
     "name": "stdout",
     "output_type": "stream",
     "text": [
      "First 5 rows of the dataset:\n",
      "   Nitrogen  phosphorus  potassium  temperature   humidity        ph  \\\n",
      "0        90          42         43    20.879744  82.002744  6.502985   \n",
      "1        85          58         41    21.770462  80.319644  7.038096   \n",
      "2        60          55         44    23.004459  82.320763  7.840207   \n",
      "3        74          35         40    26.491096  80.158363  6.980401   \n",
      "4        78          42         42    20.130175  81.604873  7.628473   \n",
      "\n",
      "     rainfall label  Unnamed: 8  Unnamed: 9  \n",
      "0  202.935536  rice         NaN         NaN  \n",
      "1  226.655537  rice         NaN         NaN  \n",
      "2  263.964248  rice         NaN         NaN  \n",
      "3  242.864034  rice         NaN         NaN  \n",
      "4  262.717340  rice         NaN         NaN  \n",
      "\n",
      "Dataset Info:\n",
      "<class 'pandas.core.frame.DataFrame'>\n",
      "RangeIndex: 2200 entries, 0 to 2199\n",
      "Data columns (total 10 columns):\n",
      " #   Column       Non-Null Count  Dtype  \n",
      "---  ------       --------------  -----  \n",
      " 0   Nitrogen     2200 non-null   int64  \n",
      " 1   phosphorus   2200 non-null   int64  \n",
      " 2   potassium    2200 non-null   int64  \n",
      " 3   temperature  2200 non-null   float64\n",
      " 4   humidity     2200 non-null   float64\n",
      " 5   ph           2200 non-null   float64\n",
      " 6   rainfall     2200 non-null   float64\n",
      " 7   label        2200 non-null   object \n",
      " 8   Unnamed: 8   0 non-null      float64\n",
      " 9   Unnamed: 9   0 non-null      float64\n",
      "dtypes: float64(6), int64(3), object(1)\n",
      "memory usage: 172.0+ KB\n",
      "None\n"
     ]
    }
   ],
   "source": [
    "# Load the dataset\n",
    "df = pd.read_csv('Crop_recommendation.csv')\n",
    "\n",
    "# Display basic information about the dataset\n",
    "print(\"First 5 rows of the dataset:\")\n",
    "print(df.head())  # Display the first 5 rows\n",
    "\n",
    "print(\"\\nDataset Info:\")\n",
    "print(df.info())  # Display data types and missing value information\n"
   ]
  },
  {
   "cell_type": "code",
   "execution_count": 9,
   "id": "11c8aee5-8a37-4449-afdc-2c2490598360",
   "metadata": {},
   "outputs": [
    {
     "name": "stdout",
     "output_type": "stream",
     "text": [
      "Missing values in each column:\n",
      "Nitrogen          0\n",
      "phosphorus        0\n",
      "potassium         0\n",
      "temperature       0\n",
      "humidity          0\n",
      "ph                0\n",
      "rainfall          0\n",
      "label             0\n",
      "Unnamed: 8     2200\n",
      "Unnamed: 9     2200\n",
      "dtype: int64\n",
      "\n",
      "Number of duplicate rows: 0\n",
      "\n",
      "After cleaning:\n",
      "Dataset shape: (2200, 10)\n"
     ]
    }
   ],
   "source": [
    "# Check for missing values in each column\n",
    "print(\"Missing values in each column:\")\n",
    "print(df.isnull().sum())\n",
    "\n",
    "# Check for duplicate rows\n",
    "print(f\"\\nNumber of duplicate rows: {df.duplicated().sum()}\")\n",
    "\n",
    "# Remove duplicate rows (if any)\n",
    "df = df.drop_duplicates()\n",
    "\n",
    "# Confirm changes\n",
    "print(\"\\nAfter cleaning:\")\n",
    "print(f\"Dataset shape: {df.shape}\")\n"
   ]
  },
  {
   "cell_type": "code",
   "execution_count": 17,
   "id": "36215828-37ee-4aa1-81e7-868487ace455",
   "metadata": {},
   "outputs": [
    {
     "name": "stdout",
     "output_type": "stream",
     "text": [
      "Dataset Shape: (2200, 10)\n",
      "   Nitrogen  phosphorus  potassium  temperature   humidity        ph  \\\n",
      "0        90          42         43    20.879744  82.002744  6.502985   \n",
      "1        85          58         41    21.770462  80.319644  7.038096   \n",
      "2        60          55         44    23.004459  82.320763  7.840207   \n",
      "3        74          35         40    26.491096  80.158363  6.980401   \n",
      "4        78          42         42    20.130175  81.604873  7.628473   \n",
      "\n",
      "     rainfall label  Unnamed: 8  Unnamed: 9  \n",
      "0  202.935536  rice         NaN         NaN  \n",
      "1  226.655537  rice         NaN         NaN  \n",
      "2  263.964248  rice         NaN         NaN  \n",
      "3  242.864034  rice         NaN         NaN  \n",
      "4  262.717340  rice         NaN         NaN  \n",
      "An error occurred: could not convert string to float: 'rice'\n"
     ]
    },
    {
     "data": {
      "text/plain": [
       "<Figure size 1000x800 with 0 Axes>"
      ]
     },
     "metadata": {},
     "output_type": "display_data"
    }
   ],
   "source": [
    "# Check if the DataFrame has loaded correctly\n",
    "print(f\"Dataset Shape: {df.shape}\")  # Ensure rows and columns exist\n",
    "print(df.head())  # Preview the dataset\n",
    "\n",
    "# Generate a heatmap for feature correlation\n",
    "try:\n",
    "    plt.figure(figsize=(10, 8))  # Set the figure size\n",
    "    sns.heatmap(df.corr(), annot=True, cmap='coolwarm', fmt='.2f')\n",
    "    plt.title('Feature Correlation Heatmap')\n",
    "    plt.show()\n",
    "except Exception as e:\n",
    "    print(\"An error occurred:\", e)\n"
   ]
  },
  {
   "cell_type": "code",
   "execution_count": 37,
   "id": "95fd713b-0c18-4ff6-a80d-0b49ac42daa1",
   "metadata": {},
   "outputs": [
    {
     "name": "stdout",
     "output_type": "stream",
     "text": [
      "Column Names in Dataset:\n",
      "Index(['Nitrogen', 'phosphorus', 'potassium', 'temperature', 'humidity', 'ph',\n",
      "       'rainfall', 'label', 'Unnamed: 8', 'Unnamed: 9'],\n",
      "      dtype='object')\n"
     ]
    }
   ],
   "source": [
    "# Check the actual column names\n",
    "print(\"Column Names in Dataset:\")\n",
    "print(df.columns)\n"
   ]
  },
  {
   "cell_type": "code",
   "execution_count": 39,
   "id": "c087f306-a0f0-41b2-9795-aead9120c507",
   "metadata": {},
   "outputs": [
    {
     "name": "stdout",
     "output_type": "stream",
     "text": [
      "Training Data Shape: (1760, 10), (1760,)\n",
      "Testing Data Shape: (440, 10), (440,)\n"
     ]
    }
   ],
   "source": [
    "# After checking the column names, update this with the correct full column names.\n",
    "X = df[['Nitrogen', 'phosphorus', 'potassium', 'temperature', 'humidity', 'ph',\n",
    "       'rainfall', 'label', 'Unnamed: 8', 'Unnamed: 9']]  # Features\n",
    "y = df['label']  # Target (crop name)\n",
    "\n",
    "# Split the data into training (80%) and testing (20%) sets\n",
    "from sklearn.model_selection import train_test_split\n",
    "X_train, X_test, y_train, y_test = train_test_split(X, y, test_size=0.2, random_state=42)\n",
    "\n",
    "# Check the shape of the training and testing data\n",
    "print(f\"Training Data Shape: {X_train.shape}, {y_train.shape}\")\n",
    "print(f\"Testing Data Shape: {X_test.shape}, {y_test.shape}\")\n"
   ]
  },
  {
   "cell_type": "code",
   "execution_count": 47,
   "id": "12d6a576-0b51-4c82-a84a-2e5a6e38241e",
   "metadata": {},
   "outputs": [
    {
     "name": "stdout",
     "output_type": "stream",
     "text": [
      "Nitrogen         int64\n",
      "phosphorus       int64\n",
      "potassium        int64\n",
      "temperature    float64\n",
      "humidity       float64\n",
      "ph             float64\n",
      "rainfall       float64\n",
      "label           object\n",
      "Unnamed: 8     float64\n",
      "Unnamed: 9     float64\n",
      "dtype: object\n"
     ]
    }
   ],
   "source": [
    "# Check if any columns in X_train are non-numeric\n",
    "print(X_train.dtypes)\n"
   ]
  },
  {
   "cell_type": "code",
   "execution_count": 57,
   "id": "567fa8ac-08f7-4c5b-8e27-85bc2d3995fc",
   "metadata": {},
   "outputs": [
    {
     "name": "stdout",
     "output_type": "stream",
     "text": [
      "0       20.0\n",
      "1       20.0\n",
      "2       20.0\n",
      "3       20.0\n",
      "4       20.0\n",
      "        ... \n",
      "2195     5.0\n",
      "2196     5.0\n",
      "2197     5.0\n",
      "2198     5.0\n",
      "2199     5.0\n",
      "Name: label, Length: 2200, dtype: float64\n"
     ]
    }
   ],
   "source": [
    "from sklearn.preprocessing import LabelEncoder\n",
    "\n",
    "# Assume df is your DataFrame and the 'label' column is categorical\n",
    "\n",
    "# Initialize the label encoder\n",
    "label_encoder = LabelEncoder()\n",
    "\n",
    "# Convert the 'label' column to numeric (integers)\n",
    "df['label'] = label_encoder.fit_transform(df['label'])\n",
    "\n",
    "# Convert the 'label' column to float\n",
    "df['label'] = df['label'].astype('float')\n",
    "\n",
    "# Check the result\n",
    "print(df['label'])\n"
   ]
  },
  {
   "cell_type": "code",
   "execution_count": 61,
   "id": "cea9e0d2-b36e-4167-bd3f-29aa70773689",
   "metadata": {},
   "outputs": [
    {
     "name": "stdout",
     "output_type": "stream",
     "text": [
      "0       20.0\n",
      "1       20.0\n",
      "2       20.0\n",
      "3       20.0\n",
      "4       20.0\n",
      "        ... \n",
      "2195     5.0\n",
      "2196     5.0\n",
      "2197     5.0\n",
      "2198     5.0\n",
      "2199     5.0\n",
      "Name: label, Length: 2200, dtype: float64\n"
     ]
    }
   ],
   "source": [
    "from sklearn.preprocessing import LabelEncoder\n",
    "\n",
    "# Initialize the label encoder\n",
    "label_encoder = LabelEncoder()\n",
    "\n",
    "# Convert the 'label' column to numeric (integers) and then to float\n",
    "df['label'] = label_encoder.fit_transform(df['label']).astype('float')\n",
    "\n",
    "# Check the result\n",
    "print(df['label'])\n"
   ]
  },
  {
   "cell_type": "code",
   "execution_count": 63,
   "id": "a6dd0fda-3c93-4953-a729-3c9348c2bf70",
   "metadata": {},
   "outputs": [
    {
     "name": "stdout",
     "output_type": "stream",
     "text": [
      "      Unnamed: 8  Unnamed: 9\n",
      "0            NaN         NaN\n",
      "1            NaN         NaN\n",
      "2            NaN         NaN\n",
      "3            NaN         NaN\n",
      "4            NaN         NaN\n",
      "...          ...         ...\n",
      "2195         NaN         NaN\n",
      "2196         NaN         NaN\n",
      "2197         NaN         NaN\n",
      "2198         NaN         NaN\n",
      "2199         NaN         NaN\n",
      "\n",
      "[2200 rows x 2 columns]\n"
     ]
    }
   ],
   "source": [
    "# Convert 'Unnamed: 8' and 'Unnamed: 9' to float (if necessary)\n",
    "df['Unnamed: 8'] = df['Unnamed: 8'].astype('float')\n",
    "df['Unnamed: 9'] = df['Unnamed: 9'].astype('float')\n",
    "\n",
    "# Check the result\n",
    "print(df[['Unnamed: 8', 'Unnamed: 9']])\n"
   ]
  },
  {
   "cell_type": "code",
   "execution_count": 65,
   "id": "90e73554-f492-41f3-8fde-e3a70670277d",
   "metadata": {},
   "outputs": [
    {
     "name": "stdout",
     "output_type": "stream",
     "text": [
      "Nitrogen      float64\n",
      "phosphorus    float64\n",
      "potassium     float64\n",
      "dtype: object\n"
     ]
    }
   ],
   "source": [
    "# Convert all integer columns to float (if needed)\n",
    "df[['Nitrogen', 'phosphorus', 'potassium']] = df[['Nitrogen', 'phosphorus', 'potassium']].astype('float')\n",
    "\n",
    "# Check the result\n",
    "print(df[['Nitrogen', 'phosphorus', 'potassium']].dtypes)\n"
   ]
  },
  {
   "cell_type": "code",
   "execution_count": 67,
   "id": "62ef650e-0912-47ac-b360-a8b69b2991bc",
   "metadata": {},
   "outputs": [
    {
     "name": "stdout",
     "output_type": "stream",
     "text": [
      "Nitrogen       float64\n",
      "phosphorus     float64\n",
      "potassium      float64\n",
      "temperature    float64\n",
      "humidity       float64\n",
      "ph             float64\n",
      "rainfall       float64\n",
      "label          float64\n",
      "Unnamed: 8     float64\n",
      "Unnamed: 9     float64\n",
      "dtype: object\n"
     ]
    }
   ],
   "source": [
    "from sklearn.preprocessing import LabelEncoder\n",
    "\n",
    "# Convert 'label' column (categorical) to numeric and then to float\n",
    "label_encoder = LabelEncoder()\n",
    "df['label'] = label_encoder.fit_transform(df['label']).astype('float')\n",
    "\n",
    "# Convert 'Unnamed: 8' and 'Unnamed: 9' to float\n",
    "df['Unnamed: 8'] = df['Unnamed: 8'].astype('float')\n",
    "df['Unnamed: 9'] = df['Unnamed: 9'].astype('float')\n",
    "\n",
    "# Convert integer columns ('Nitrogen', 'phosphorus', 'potassium') to float (if needed)\n",
    "df[['Nitrogen', 'phosphorus', 'potassium']] = df[['Nitrogen', 'phosphorus', 'potassium']].astype('float')\n",
    "\n",
    "# Check the updated data types\n",
    "print(df.dtypes)\n"
   ]
  },
  {
   "cell_type": "code",
   "execution_count": 69,
   "id": "92bd1181-807c-4d1a-846b-73ce70c978d1",
   "metadata": {},
   "outputs": [],
   "source": [
    "# Select features and target\n",
    "X = df[['Nitrogen', 'phosphorus', 'potassium', 'temperature', 'humidity', 'ph', 'rainfall']]\n",
    "y = df['label']  # Target: the 'label' column\n"
   ]
  },
  {
   "cell_type": "code",
   "execution_count": 71,
   "id": "0305bf6d-e03a-4227-b5cc-457580776a7e",
   "metadata": {},
   "outputs": [
    {
     "name": "stdout",
     "output_type": "stream",
     "text": [
      "Training Data Shape: (1760, 7), (1760,)\n",
      "Testing Data Shape: (440, 7), (440,)\n"
     ]
    }
   ],
   "source": [
    "from sklearn.model_selection import train_test_split\n",
    "\n",
    "# Split the data into training and testing sets (80% training, 20% testing)\n",
    "X_train, X_test, y_train, y_test = train_test_split(X, y, test_size=0.2, random_state=42)\n",
    "\n",
    "# Check the shapes of the resulting splits\n",
    "print(f\"Training Data Shape: {X_train.shape}, {y_train.shape}\")\n",
    "print(f\"Testing Data Shape: {X_test.shape}, {y_test.shape}\")\n"
   ]
  },
  {
   "cell_type": "code",
   "execution_count": 73,
   "id": "79ce177e-71aa-4b22-ab79-3017f2b3be84",
   "metadata": {},
   "outputs": [
    {
     "data": {
      "text/html": [
       "<style>#sk-container-id-1 {color: black;}#sk-container-id-1 pre{padding: 0;}#sk-container-id-1 div.sk-toggleable {background-color: white;}#sk-container-id-1 label.sk-toggleable__label {cursor: pointer;display: block;width: 100%;margin-bottom: 0;padding: 0.3em;box-sizing: border-box;text-align: center;}#sk-container-id-1 label.sk-toggleable__label-arrow:before {content: \"▸\";float: left;margin-right: 0.25em;color: #696969;}#sk-container-id-1 label.sk-toggleable__label-arrow:hover:before {color: black;}#sk-container-id-1 div.sk-estimator:hover label.sk-toggleable__label-arrow:before {color: black;}#sk-container-id-1 div.sk-toggleable__content {max-height: 0;max-width: 0;overflow: hidden;text-align: left;background-color: #f0f8ff;}#sk-container-id-1 div.sk-toggleable__content pre {margin: 0.2em;color: black;border-radius: 0.25em;background-color: #f0f8ff;}#sk-container-id-1 input.sk-toggleable__control:checked~div.sk-toggleable__content {max-height: 200px;max-width: 100%;overflow: auto;}#sk-container-id-1 input.sk-toggleable__control:checked~label.sk-toggleable__label-arrow:before {content: \"▾\";}#sk-container-id-1 div.sk-estimator input.sk-toggleable__control:checked~label.sk-toggleable__label {background-color: #d4ebff;}#sk-container-id-1 div.sk-label input.sk-toggleable__control:checked~label.sk-toggleable__label {background-color: #d4ebff;}#sk-container-id-1 input.sk-hidden--visually {border: 0;clip: rect(1px 1px 1px 1px);clip: rect(1px, 1px, 1px, 1px);height: 1px;margin: -1px;overflow: hidden;padding: 0;position: absolute;width: 1px;}#sk-container-id-1 div.sk-estimator {font-family: monospace;background-color: #f0f8ff;border: 1px dotted black;border-radius: 0.25em;box-sizing: border-box;margin-bottom: 0.5em;}#sk-container-id-1 div.sk-estimator:hover {background-color: #d4ebff;}#sk-container-id-1 div.sk-parallel-item::after {content: \"\";width: 100%;border-bottom: 1px solid gray;flex-grow: 1;}#sk-container-id-1 div.sk-label:hover label.sk-toggleable__label {background-color: #d4ebff;}#sk-container-id-1 div.sk-serial::before {content: \"\";position: absolute;border-left: 1px solid gray;box-sizing: border-box;top: 0;bottom: 0;left: 50%;z-index: 0;}#sk-container-id-1 div.sk-serial {display: flex;flex-direction: column;align-items: center;background-color: white;padding-right: 0.2em;padding-left: 0.2em;position: relative;}#sk-container-id-1 div.sk-item {position: relative;z-index: 1;}#sk-container-id-1 div.sk-parallel {display: flex;align-items: stretch;justify-content: center;background-color: white;position: relative;}#sk-container-id-1 div.sk-item::before, #sk-container-id-1 div.sk-parallel-item::before {content: \"\";position: absolute;border-left: 1px solid gray;box-sizing: border-box;top: 0;bottom: 0;left: 50%;z-index: -1;}#sk-container-id-1 div.sk-parallel-item {display: flex;flex-direction: column;z-index: 1;position: relative;background-color: white;}#sk-container-id-1 div.sk-parallel-item:first-child::after {align-self: flex-end;width: 50%;}#sk-container-id-1 div.sk-parallel-item:last-child::after {align-self: flex-start;width: 50%;}#sk-container-id-1 div.sk-parallel-item:only-child::after {width: 0;}#sk-container-id-1 div.sk-dashed-wrapped {border: 1px dashed gray;margin: 0 0.4em 0.5em 0.4em;box-sizing: border-box;padding-bottom: 0.4em;background-color: white;}#sk-container-id-1 div.sk-label label {font-family: monospace;font-weight: bold;display: inline-block;line-height: 1.2em;}#sk-container-id-1 div.sk-label-container {text-align: center;}#sk-container-id-1 div.sk-container {/* jupyter's `normalize.less` sets `[hidden] { display: none; }` but bootstrap.min.css set `[hidden] { display: none !important; }` so we also need the `!important` here to be able to override the default hidden behavior on the sphinx rendered scikit-learn.org. See: https://github.com/scikit-learn/scikit-learn/issues/21755 */display: inline-block !important;position: relative;}#sk-container-id-1 div.sk-text-repr-fallback {display: none;}</style><div id=\"sk-container-id-1\" class=\"sk-top-container\"><div class=\"sk-text-repr-fallback\"><pre>RandomForestClassifier(random_state=42)</pre><b>In a Jupyter environment, please rerun this cell to show the HTML representation or trust the notebook. <br />On GitHub, the HTML representation is unable to render, please try loading this page with nbviewer.org.</b></div><div class=\"sk-container\" hidden><div class=\"sk-item\"><div class=\"sk-estimator sk-toggleable\"><input class=\"sk-toggleable__control sk-hidden--visually\" id=\"sk-estimator-id-1\" type=\"checkbox\" checked><label for=\"sk-estimator-id-1\" class=\"sk-toggleable__label sk-toggleable__label-arrow\">RandomForestClassifier</label><div class=\"sk-toggleable__content\"><pre>RandomForestClassifier(random_state=42)</pre></div></div></div></div></div>"
      ],
      "text/plain": [
       "RandomForestClassifier(random_state=42)"
      ]
     },
     "execution_count": 73,
     "metadata": {},
     "output_type": "execute_result"
    }
   ],
   "source": [
    "from sklearn.ensemble import RandomForestClassifier\n",
    "\n",
    "# Initialize the Random Forest Classifier\n",
    "model = RandomForestClassifier(n_estimators=100, random_state=42)\n",
    "\n",
    "# Train the model\n",
    "model.fit(X_train, y_train)\n"
   ]
  },
  {
   "cell_type": "code",
   "execution_count": 75,
   "id": "92ce7c6d-21ed-405b-a7ac-e54aaa29e985",
   "metadata": {},
   "outputs": [
    {
     "name": "stdout",
     "output_type": "stream",
     "text": [
      "Model Accuracy: 99.32%\n"
     ]
    }
   ],
   "source": [
    "# Evaluate the model on the testing set\n",
    "accuracy = model.score(X_test, y_test)\n",
    "print(f\"Model Accuracy: {accuracy * 100:.2f}%\")\n"
   ]
  },
  {
   "cell_type": "code",
   "execution_count": 77,
   "id": "253350d2-8386-45fc-9c66-b075accc0fdd",
   "metadata": {},
   "outputs": [
    {
     "name": "stdout",
     "output_type": "stream",
     "text": [
      "Predictions: [15. 21. 17. 17.  0.]\n"
     ]
    }
   ],
   "source": [
    "# Make predictions on the test set\n",
    "y_pred = model.predict(X_test)\n",
    "\n",
    "# Print the first few predictions\n",
    "print(f\"Predictions: {y_pred[:5]}\")\n"
   ]
  },
  {
   "cell_type": "code",
   "execution_count": 79,
   "id": "95d1a758-0da0-4c9e-a7b0-59645c5298b5",
   "metadata": {},
   "outputs": [
    {
     "name": "stdout",
     "output_type": "stream",
     "text": [
      "Training Data Shape: (1760, 7), (1760,)\n",
      "Testing Data Shape: (440, 7), (440,)\n",
      "Model Accuracy: 99.32%\n",
      "Predictions: [15. 21. 17. 17.  0.]\n"
     ]
    }
   ],
   "source": [
    "from sklearn.model_selection import train_test_split\n",
    "from sklearn.ensemble import RandomForestClassifier\n",
    "\n",
    "# Step 1: Split the data into features (X) and target (y)\n",
    "X = df[['Nitrogen', 'phosphorus', 'potassium', 'temperature', 'humidity', 'ph', 'rainfall']]\n",
    "y = df['label']\n",
    "\n",
    "# Step 2: Split into training (80%) and testing (20%) sets\n",
    "X_train, X_test, y_train, y_test = train_test_split(X, y, test_size=0.2, random_state=42)\n",
    "\n",
    "# Check the shapes of the resulting splits\n",
    "print(f\"Training Data Shape: {X_train.shape}, {y_train.shape}\")\n",
    "print(f\"Testing Data Shape: {X_test.shape}, {y_test.shape}\")\n",
    "\n",
    "# Step 3: Train the Random Forest Classifier\n",
    "model = RandomForestClassifier(n_estimators=100, random_state=42)\n",
    "model.fit(X_train, y_train)\n",
    "\n",
    "# Step 4: Evaluate the model's accuracy\n",
    "accuracy = model.score(X_test, y_test)\n",
    "print(f\"Model Accuracy: {accuracy * 100:.2f}%\")\n",
    "\n",
    "# Step 5: (Optional) Make predictions\n",
    "y_pred = model.predict(X_test)\n",
    "print(f\"Predictions: {y_pred[:5]}\")\n"
   ]
  },
  {
   "cell_type": "code",
   "execution_count": 81,
   "id": "51044777-a9a0-4000-81ad-dae83e61c848",
   "metadata": {},
   "outputs": [
    {
     "name": "stdout",
     "output_type": "stream",
     "text": [
      "Model saved successfully using pickle.\n"
     ]
    }
   ],
   "source": [
    "import pickle\n",
    "\n",
    "# Save the trained model to a file using pickle\n",
    "with open('crop_yield_model.pkl', 'wb') as file:\n",
    "    pickle.dump(model, file)\n",
    "\n",
    "print(\"Model saved successfully using pickle.\")\n"
   ]
  },
  {
   "cell_type": "code",
   "execution_count": null,
   "id": "354d7f24-217f-4fb8-8240-98099618ce44",
   "metadata": {},
   "outputs": [],
   "source": []
  }
 ],
 "metadata": {
  "kernelspec": {
   "display_name": "anaconda-2024.02-py310",
   "language": "python",
   "name": "conda-env-anaconda-2024.02-py310-py"
  },
  "language_info": {
   "codemirror_mode": {
    "name": "ipython",
    "version": 3
   },
   "file_extension": ".py",
   "mimetype": "text/x-python",
   "name": "python",
   "nbconvert_exporter": "python",
   "pygments_lexer": "ipython3",
   "version": "3.10.14"
  }
 },
 "nbformat": 4,
 "nbformat_minor": 5
}
